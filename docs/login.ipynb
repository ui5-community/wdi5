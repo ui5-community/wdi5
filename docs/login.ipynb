{
 "cells": [
  {
   "cell_type": "code",
   "execution_count": null,
   "metadata": {},
   "outputs": [],
   "source": [
    "(async () => {\n",
    "\n",
    "    const path = require('path')\n",
    "    require('dotenv').config({ path: path.resolve(__dirname, '../.env') })\n",
    "    const Launcher = require(\"@wdio/cli\").default\n",
    "    const { join } = require(\"path\")\n",
    "\n",
    "    const _config = {\n",
    "        services: [\"chromedriver\", \"ui5\", \"shared-store\"],\n",
    "        specs: [join(\"..\", \"examples\", \"ui5-js-app\", \"webapp\", \"test\", \"e2e\", \"basic.test.js\")],\n",
    "        wdi5: {\n",
    "            skipInjectUI5OnStart: true,\n",
    "            url: \"index.html\",\n",
    "            logLevel: \"verbose\"\n",
    "        },\n",
    "        // logLevel: \"debug\",\n",
    "        baseUrl: \"https://davinci.cpp.cfapps.eu10.hana.ondemand.com/474a7c0c-c364-4075-b53e-983472d76120.basicservice.testSample-1.0.0/index.html\",\n",
    "    }\n",
    "\n",
    "    console.log(`starting with \\n MULTI_IDENT_PROVIDER: ${process.env.MULTI_IDENT_PROVIDER} \\n USE_GLOBAL_ID: ${process.env.USE_GLOBAL_ID} \\n USERNAME: ${process.env.USERNAME} `)\n",
    "\n",
    "    if(process.env.USERNAME && process.env.PASSWORD){\n",
    "\n",
    "        const wdio = new Launcher(\"../examples/ui5-js-app/wdio-btp.conf\", _config)\n",
    "            await wdio.run().then((code) => {\n",
    "            if (code === 1) {\n",
    "                console.error(\"test failed\")\n",
    "                process.exit(1)\n",
    "            }else{\n",
    "                console.log(\"test finished\")\n",
    "            }\n",
    "        })\n",
    "    }else{\n",
    "        console.error(\"no username and/ or password for login provided\")\n",
    "    }\n",
    "\n",
    "})();"
   ]
  }
 ],
 "metadata": {
  "kernelspec": {
   "display_name": "JavaScript (Node.js)",
   "language": "javascript",
   "name": "javascript"
  },
  "language_info": {
   "file_extension": ".js",
   "mimetype": "application/javascript",
   "name": "javascript",
   "version": "16.14.0"
  },
  "orig_nbformat": 4
 },
 "nbformat": 4,
 "nbformat_minor": 2
}
